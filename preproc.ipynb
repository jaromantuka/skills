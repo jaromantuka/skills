{
 "cells": [
  {
   "cell_type": "code",
   "execution_count": 1,
   "id": "b8129e1b",
   "metadata": {},
   "outputs": [],
   "source": [
    "import pandas as pd "
   ]
  },
  {
   "cell_type": "code",
   "execution_count": 2,
   "id": "4a93f601",
   "metadata": {},
   "outputs": [],
   "source": [
    "cand = pd.read_csv('candidate_activated_skills.csv')"
   ]
  },
  {
   "cell_type": "code",
   "execution_count": 4,
   "id": "7bbe8b2a",
   "metadata": {},
   "outputs": [],
   "source": [
    "cand = cand[['skills_cache', 'label']]"
   ]
  },
  {
   "cell_type": "code",
   "execution_count": 6,
   "id": "4f623c8f",
   "metadata": {},
   "outputs": [],
   "source": [
    "cand.to_csv('candidate_activated_skills.csv')"
   ]
  },
  {
   "cell_type": "code",
   "execution_count": null,
   "id": "0aa90fed",
   "metadata": {},
   "outputs": [],
   "source": []
  }
 ],
 "metadata": {
  "kernelspec": {
   "display_name": "Python 3 (ipykernel)",
   "language": "python",
   "name": "python3"
  },
  "language_info": {
   "codemirror_mode": {
    "name": "ipython",
    "version": 3
   },
   "file_extension": ".py",
   "mimetype": "text/x-python",
   "name": "python",
   "nbconvert_exporter": "python",
   "pygments_lexer": "ipython3",
   "version": "3.11.0"
  }
 },
 "nbformat": 4,
 "nbformat_minor": 5
}
